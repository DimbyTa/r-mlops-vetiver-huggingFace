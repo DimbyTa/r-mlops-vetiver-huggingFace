{
 "cells": [
  {
   "cell_type": "code",
   "execution_count": 1,
   "id": "5e0ee716",
   "metadata": {
    "execution": {
     "iopub.execute_input": "2023-10-21T05:55:24.619773Z",
     "iopub.status.busy": "2023-10-21T05:55:24.617593Z",
     "iopub.status.idle": "2023-10-21T05:56:30.949057Z",
     "shell.execute_reply": "2023-10-21T05:56:30.947313Z"
    },
    "papermill": {
     "duration": 66.341636,
     "end_time": "2023-10-21T05:56:30.954322",
     "exception": false,
     "start_time": "2023-10-21T05:55:24.612686",
     "status": "completed"
    },
    "tags": []
   },
   "outputs": [
    {
     "name": "stderr",
     "output_type": "stream",
     "text": [
      "Installing package into ‘/usr/local/lib/R/site-library’\n",
      "(as ‘lib’ is unspecified)\n",
      "\n",
      "also installing the dependencies ‘cereal’, ‘pins’, ‘rapidoc’\n",
      "\n",
      "\n",
      "Installing package into ‘/usr/local/lib/R/site-library’\n",
      "(as ‘lib’ is unspecified)\n",
      "\n",
      "also installing the dependencies ‘webutils’, ‘sodium’, ‘swagger’\n",
      "\n",
      "\n"
     ]
    }
   ],
   "source": [
    "install.packages(\"vetiver\")\n",
    "install.packages(\"plumber\")"
   ]
  },
  {
   "cell_type": "code",
   "execution_count": 2,
   "id": "7164c0cf",
   "metadata": {
    "execution": {
     "iopub.execute_input": "2023-10-21T05:56:30.994670Z",
     "iopub.status.busy": "2023-10-21T05:56:30.965244Z",
     "iopub.status.idle": "2023-10-21T05:56:34.166964Z",
     "shell.execute_reply": "2023-10-21T05:56:34.165370Z"
    },
    "papermill": {
     "duration": 3.211123,
     "end_time": "2023-10-21T05:56:34.169126",
     "exception": false,
     "start_time": "2023-10-21T05:56:30.958003",
     "status": "completed"
    },
    "tags": []
   },
   "outputs": [
    {
     "name": "stderr",
     "output_type": "stream",
     "text": [
      "── \u001b[1mAttaching core tidyverse packages\u001b[22m ──────────────────────── tidyverse 2.0.0 ──\n",
      "\u001b[32m✔\u001b[39m \u001b[34mdplyr    \u001b[39m 1.1.2     \u001b[32m✔\u001b[39m \u001b[34mreadr    \u001b[39m 2.1.4\n",
      "\u001b[32m✔\u001b[39m \u001b[34mforcats  \u001b[39m 1.0.0     \u001b[32m✔\u001b[39m \u001b[34mstringr  \u001b[39m 1.5.0\n",
      "\u001b[32m✔\u001b[39m \u001b[34mggplot2  \u001b[39m 3.4.2     \u001b[32m✔\u001b[39m \u001b[34mtibble   \u001b[39m 3.2.1\n",
      "\u001b[32m✔\u001b[39m \u001b[34mlubridate\u001b[39m 1.9.2     \u001b[32m✔\u001b[39m \u001b[34mtidyr    \u001b[39m 1.3.0\n",
      "\u001b[32m✔\u001b[39m \u001b[34mpurrr    \u001b[39m 1.0.1     \n",
      "── \u001b[1mConflicts\u001b[22m ────────────────────────────────────────── tidyverse_conflicts() ──\n",
      "\u001b[31m✖\u001b[39m \u001b[34mdplyr\u001b[39m::\u001b[32mfilter()\u001b[39m masks \u001b[34mstats\u001b[39m::filter()\n",
      "\u001b[31m✖\u001b[39m \u001b[34mdplyr\u001b[39m::\u001b[32mlag()\u001b[39m    masks \u001b[34mstats\u001b[39m::lag()\n",
      "\u001b[36mℹ\u001b[39m Use the conflicted package (\u001b[3m\u001b[34m<http://conflicted.r-lib.org/>\u001b[39m\u001b[23m) to force all conflicts to become errors\n",
      "Loading required package: lattice\n",
      "\n",
      "\n",
      "Attaching package: ‘caret’\n",
      "\n",
      "\n",
      "The following object is masked from ‘package:purrr’:\n",
      "\n",
      "    lift\n",
      "\n",
      "\n",
      "The following object is masked from ‘package:httr’:\n",
      "\n",
      "    progress\n",
      "\n",
      "\n",
      "\n",
      "Attaching package: ‘pins’\n",
      "\n",
      "\n",
      "The following object is masked from ‘package:httr’:\n",
      "\n",
      "    cache_info\n",
      "\n",
      "\n"
     ]
    },
    {
     "data": {
      "text/html": [
       "<style>\n",
       ".list-inline {list-style: none; margin:0; padding: 0}\n",
       ".list-inline>li {display: inline-block}\n",
       ".list-inline>li:not(:last-child)::after {content: \"\\00b7\"; padding: 0 .5ex}\n",
       "</style>\n",
       "<ol class=list-inline><li>'custom-plumber'</li><li>'nasscds-accidents'</li></ol>\n"
      ],
      "text/latex": [
       "\\begin{enumerate*}\n",
       "\\item 'custom-plumber'\n",
       "\\item 'nasscds-accidents'\n",
       "\\end{enumerate*}\n"
      ],
      "text/markdown": [
       "1. 'custom-plumber'\n",
       "2. 'nasscds-accidents'\n",
       "\n",
       "\n"
      ],
      "text/plain": [
       "[1] \"custom-plumber\"    \"nasscds-accidents\""
      ]
     },
     "metadata": {},
     "output_type": "display_data"
    }
   ],
   "source": [
    "# This R environment comes with many helpful analytics packages installed\n",
    "# It is defined by the kaggle/rstats Docker image: https://github.com/kaggle/docker-rstats\n",
    "# For example, here's a helpful package to load\n",
    "\n",
    "library(tidyverse) # metapackage of all tidyverse packages\n",
    "library(caret) # modeling and machine learning\n",
    "library(vetiver) # versionning, deployment of model\n",
    "library(pins) # ressource sharing\n",
    "library(plumber) # API creation\n",
    "library(conflicted) # handling conflicts from imports\n",
    "# Input data files are available in the read-only \"../input/\" directory\n",
    "# For example, running this (by clicking run or pressing Shift+Enter) will list all files under the input directory\n",
    "\n",
    "list.files(path = \"../input\")\n",
    "\n",
    "# You can write up to 20GB to the current directory (/kaggle/working/) that gets preserved as output when you create a version using \"Save & Run All\" \n",
    "# You can also write temporary files to /kaggle/temp/, but they won't be saved outside of the current session"
   ]
  },
  {
   "cell_type": "markdown",
   "id": "734b7809",
   "metadata": {
    "papermill": {
     "duration": 0.002993,
     "end_time": "2023-10-21T05:56:34.175398",
     "exception": false,
     "start_time": "2023-10-21T05:56:34.172405",
     "status": "completed"
    },
    "tags": []
   },
   "source": [
    "# Entraînements de modèle implémenté avec caret"
   ]
  },
  {
   "cell_type": "markdown",
   "id": "05439373",
   "metadata": {
    "papermill": {
     "duration": 0.002846,
     "end_time": "2023-10-21T05:56:34.181205",
     "exception": false,
     "start_time": "2023-10-21T05:56:34.178359",
     "status": "completed"
    },
    "tags": []
   },
   "source": [
    "## accident-glm.R de vignettes/experiments-deep-dive/accident-glm.R à partir de https://github.com/Azure/azureml-sdk-for-r"
   ]
  },
  {
   "cell_type": "code",
   "execution_count": 3,
   "id": "21c5807e",
   "metadata": {
    "execution": {
     "iopub.execute_input": "2023-10-21T05:56:34.190611Z",
     "iopub.status.busy": "2023-10-21T05:56:34.189292Z",
     "iopub.status.idle": "2023-10-21T05:56:40.990970Z",
     "shell.execute_reply": "2023-10-21T05:56:40.989438Z"
    },
    "papermill": {
     "duration": 6.809065,
     "end_time": "2023-10-21T05:56:40.993254",
     "exception": false,
     "start_time": "2023-10-21T05:56:34.184189",
     "status": "completed"
    },
    "tags": []
   },
   "outputs": [
    {
     "data": {
      "text/plain": [
       "    dead           dvcat         seatbelt           frontal      sex      \n",
       " alive:25036   1-9km/h:  686   belted:18572   notfrontal: 9351   f:12248  \n",
       " dead : 1180   10-24  :12847   none  : 7644   frontal   :16865   m:13968  \n",
       "               25-39  : 8214                                              \n",
       "               40-54  : 2977                                              \n",
       "               55+    : 1492                                              \n",
       "                                                                          \n",
       "    ageOFocc        yearVeh        airbag        occRole     \n",
       " Min.   :16.00   Min.   :1953   airbag:14418   driver:20600  \n",
       " 1st Qu.:22.00   1st Qu.:1989   none  :11798   pass  : 5616  \n",
       " Median :33.00   Median :1994                                \n",
       " Mean   :37.21   Mean   :1993                                \n",
       " 3rd Qu.:48.00   3rd Qu.:1997                                \n",
       " Max.   :97.00   Max.   :2003                                "
      ]
     },
     "metadata": {},
     "output_type": "display_data"
    },
    {
     "data": {
      "text/plain": [
       "\n",
       "Call:\n",
       "NULL\n",
       "\n",
       "Deviance Residuals: \n",
       "    Min       1Q   Median       3Q      Max  \n",
       "-1.8986  -0.2559  -0.1449  -0.0904   3.4783  \n",
       "\n",
       "Coefficients:\n",
       "                 Estimate Std. Error z value Pr(>|z|)    \n",
       "(Intercept)    -26.096791  18.539933  -1.408  0.15925    \n",
       "dvcat.L          3.997358   0.454416   8.797  < 2e-16 ***\n",
       "dvcat.Q          0.093744   0.384625   0.244  0.80744    \n",
       "dvcat.C         -0.180786   0.239351  -0.755  0.45006    \n",
       "`dvcat^4`        0.135593   0.114504   1.184  0.23634    \n",
       "seatbeltnone     1.027883   0.076819  13.381  < 2e-16 ***\n",
       "frontalfrontal  -1.112649   0.076316 -14.579  < 2e-16 ***\n",
       "sexm             0.107204   0.076907   1.394  0.16334    \n",
       "ageOFocc         0.034785   0.001908  18.230  < 2e-16 ***\n",
       "yearVeh          0.010705   0.009281   1.153  0.24873    \n",
       "airbagnone       0.203891   0.109969   1.854  0.06373 .  \n",
       "occRolepass      0.229533   0.087558   2.621  0.00875 ** \n",
       "---\n",
       "Signif. codes:  0 ‘***’ 0.001 ‘**’ 0.01 ‘*’ 0.05 ‘.’ 0.1 ‘ ’ 1\n",
       "\n",
       "(Dispersion parameter for binomial family taken to be 1)\n",
       "\n",
       "    Null deviance: 7699.3  on 20972  degrees of freedom\n",
       "Residual deviance: 5629.1  on 20961  degrees of freedom\n",
       "AIC: 5653.1\n",
       "\n",
       "Number of Fisher Scoring iterations: 8\n"
      ]
     },
     "metadata": {},
     "output_type": "display_data"
    }
   ],
   "source": [
    "# Initialiser la graine pour la reproductibilité\n",
    "set.seed(1234)\n",
    "# Data from https://github.com/Azure/azureml-examples/tree/main\n",
    "accidents <- readRDS(file.path(\"/kaggle/input/nasscds-accidents\", \"accidents.Rd\"))\n",
    "summary(accidents)\n",
    "\n",
    "## Create data partition for use with caret\n",
    "train.pct <- as.numeric(\"0.8\")\n",
    "if(length(train.pct)==0 || (train.pct<0) || (train.pct>1)) train.pct <- 0.75\n",
    "accident_idx <- createDataPartition(accidents$dead, p = train.pct, list = FALSE)\n",
    "accident_trn <- accidents[accident_idx, ]\n",
    "accident_tst <- accidents[-accident_idx, ]\n",
    "## utility function to calculate accuracy in test set\n",
    "calc_acc = function(actual, predicted) {\n",
    "  mean(actual == predicted)\n",
    "}\n",
    "\n",
    "## Caret GLM model on training set with 5-fold cross validation\n",
    "accident_glm_mod <- train(\n",
    "  form = dead ~ .,\n",
    "  data = accident_trn,\n",
    "  trControl = trainControl(method = \"cv\", number = 5),\n",
    "  method = \"glm\",\n",
    "  family = \"binomial\"\n",
    ")\n",
    "summary(accident_glm_mod)\n",
    "\n",
    "output_dir = \"outputs\"\n",
    "if (!dir.exists(output_dir)){\n",
    "  dir.create(output_dir)\n",
    "}\n",
    "saveRDS(accident_glm_mod, file = \"./outputs/model.rds\")"
   ]
  },
  {
   "cell_type": "markdown",
   "id": "ba507fd6",
   "metadata": {
    "papermill": {
     "duration": 0.00401,
     "end_time": "2023-10-21T05:56:41.002127",
     "exception": false,
     "start_time": "2023-10-21T05:56:40.998117",
     "status": "completed"
    },
    "tags": []
   },
   "source": [
    "## Création de modèle vetiver déployable"
   ]
  },
  {
   "cell_type": "code",
   "execution_count": 4,
   "id": "f6c02731",
   "metadata": {
    "execution": {
     "iopub.execute_input": "2023-10-21T05:56:41.014209Z",
     "iopub.status.busy": "2023-10-21T05:56:41.012706Z",
     "iopub.status.idle": "2023-10-21T05:56:45.751411Z",
     "shell.execute_reply": "2023-10-21T05:56:45.749354Z"
    },
    "papermill": {
     "duration": 4.748907,
     "end_time": "2023-10-21T05:56:45.754948",
     "exception": false,
     "start_time": "2023-10-21T05:56:41.006041",
     "status": "completed"
    },
    "tags": []
   },
   "outputs": [
    {
     "name": "stderr",
     "output_type": "stream",
     "text": [
      "\u001b[1m\u001b[22mCreating new version '20231021T055644Z-ca45f'\n",
      "\u001b[1m\u001b[22mWriting to pin 'accident_model'\n",
      "\n",
      "Create a Model Card for your published model\n",
      "\u001b[36m•\u001b[39m Model Cards provide a framework for transparent, responsible reporting\n",
      "\u001b[36m•\u001b[39m Use the vetiver `.Rmd` template as a place to start\n",
      "\u001b[90mThis message is displayed once per session.\u001b[39m\n",
      "\u001b[1m\u001b[22mManifest file written to root folder of board, as `_pins.yaml`\n"
     ]
    }
   ],
   "source": [
    "v_mod <- vetiver_model(accident_glm_mod, model_name = \"accident_model\")\n",
    "\n",
    "model_board <- board_folder(path = \"/kaggle/working/pins-r\", versioned = TRUE)\n",
    "model_board %>% vetiver_pin_write(v_mod)\n",
    "\n",
    "model_board %>% vetiver::vetiver_write_plumber(\"accident_model\")\n",
    "# pin_loc <- pins:::github_raw(\"DimbyTa/r-mlops-vetiver-huggingFace/main/pins-r/_pins.yaml\")\n",
    "# model_board <- board_url(pin_loc)\n",
    "# model_board %>% vetiver::vetiver_write_plumber(\"accident_model\")\n",
    "write_board_manifest(model_board)"
   ]
  },
  {
   "cell_type": "markdown",
   "id": "8c9095b7",
   "metadata": {
    "papermill": {
     "duration": 0.004766,
     "end_time": "2023-10-21T05:56:45.763458",
     "exception": false,
     "start_time": "2023-10-21T05:56:45.758692",
     "status": "completed"
    },
    "tags": []
   },
   "source": [
    "## Création du fichier Docker pour le déploiement sur HuggingFace"
   ]
  },
  {
   "cell_type": "code",
   "execution_count": 5,
   "id": "1444bcdc",
   "metadata": {
    "execution": {
     "iopub.execute_input": "2023-10-21T05:56:45.773589Z",
     "iopub.status.busy": "2023-10-21T05:56:45.772250Z",
     "iopub.status.idle": "2023-10-21T05:56:48.641328Z",
     "shell.execute_reply": "2023-10-21T05:56:48.639313Z"
    },
    "papermill": {
     "duration": 2.877128,
     "end_time": "2023-10-21T05:56:48.643970",
     "exception": false,
     "start_time": "2023-10-21T05:56:45.766842",
     "status": "completed"
    },
    "tags": []
   },
   "outputs": [
    {
     "name": "stdout",
     "output_type": "stream",
     "text": [
      "The following package(s) will be updated in the lockfile:\n",
      "\n",
      "# CRAN -----------------------------------------------------------------------\n",
      "- bit            [* -> 4.0.5]\n",
      "- bit64          [* -> 4.0.5]\n",
      "- bundle         [* -> 0.1.0]\n",
      "- butcher        [* -> 0.3.2]\n",
      "- caret          [* -> 6.0-94]\n",
      "- cereal         [* -> 0.1.0]\n",
      "- class          [* -> 7.3-22]\n",
      "- cli            [* -> 3.6.1]\n",
      "- clipr          [* -> 0.8.0]\n",
      "- clock          [* -> 0.7.0]\n",
      "- codetools      [* -> 0.2-19]\n",
      "- colorspace     [* -> 2.1-0]\n",
      "- cpp11          [* -> 0.4.4]\n",
      "- crayon         [* -> 1.5.2]\n",
      "- curl           [* -> 5.0.1]\n",
      "- data.table     [* -> 1.14.8]\n",
      "- diagram        [* -> 1.6.5]\n",
      "- digest         [* -> 0.6.32]\n",
      "- dplyr          [* -> 1.1.2]\n",
      "- e1071          [* -> 1.7-13]\n",
      "- ellipsis       [* -> 0.3.2]\n",
      "- fansi          [* -> 1.0.4]\n",
      "- farver         [* -> 2.1.1]\n",
      "- foreach        [* -> 1.5.2]\n",
      "- fs             [* -> 1.6.2]\n",
      "- future         [* -> 1.33.0]\n",
      "- future.apply   [* -> 1.11.0]\n",
      "- generics       [* -> 0.1.3]\n",
      "- ggplot2        [* -> 3.4.2]\n",
      "- globals        [* -> 0.16.2]\n",
      "- glue           [* -> 1.6.2]\n",
      "- gower          [* -> 1.0.1]\n",
      "- gtable         [* -> 0.3.3]\n",
      "- hardhat        [* -> 1.3.0]\n",
      "- hms            [* -> 1.1.3]\n",
      "- httpuv         [* -> 1.6.11]\n",
      "- httr           [* -> 1.4.6]\n",
      "- ipred          [* -> 0.9-14]\n",
      "- isoband        [* -> 0.2.7]\n",
      "- iterators      [* -> 1.0.14]\n",
      "- jsonlite       [* -> 1.8.7]\n",
      "- KernSmooth     [* -> 2.23-21]\n",
      "- labeling       [* -> 0.4.2]\n",
      "- later          [* -> 1.3.1]\n",
      "- lattice        [* -> 0.21-8]\n",
      "- lava           [* -> 1.7.2.1]\n",
      "- lifecycle      [* -> 1.0.3]\n",
      "- listenv        [* -> 0.9.0]\n",
      "- lobstr         [* -> 1.1.2]\n",
      "- lubridate      [* -> 1.9.2]\n",
      "- magrittr       [* -> 2.0.3]\n",
      "- MASS           [* -> 7.3-60]\n",
      "- Matrix         [* -> 1.5-4.1]\n",
      "- mgcv           [* -> 1.8-42]\n",
      "- mime           [* -> 0.12]\n",
      "- ModelMetrics   [* -> 1.2.2.2]\n",
      "- munsell        [* -> 0.5.0]\n",
      "- nlme           [* -> 3.1-162]\n",
      "- nnet           [* -> 7.3-19]\n",
      "- numDeriv       [* -> 2016.8-1.1]\n",
      "- openssl        [* -> 2.0.6]\n",
      "- parallelly     [* -> 1.36.0]\n",
      "- pillar         [* -> 1.9.0]\n",
      "- pins           [* -> 1.2.2]\n",
      "- plumber        [* -> 1.2.1]\n",
      "- plyr           [* -> 1.8.8]\n",
      "- pROC           [* -> 1.18.2]\n",
      "- prodlim        [* -> 2023.03.31]\n",
      "- progress       [* -> 1.2.2]\n",
      "- progressr      [* -> 0.13.0]\n",
      "- promises       [* -> 1.2.0.1]\n",
      "- proxy          [* -> 0.4-27]\n",
      "- purrr          [* -> 1.0.1]\n",
      "- R6             [* -> 2.5.1]\n",
      "- rapidoc        [* -> 8.4.3]\n",
      "- RColorBrewer   [* -> 1.1-3]\n",
      "- Rcpp           [* -> 1.0.10]\n",
      "- readr          [* -> 2.1.4]\n",
      "- recipes        [* -> 1.0.6]\n",
      "- renv           [* -> 0.17.3]\n",
      "- reshape2       [* -> 1.4.4]\n",
      "- rlang          [* -> 1.1.1]\n",
      "- rpart          [* -> 4.1.19]\n",
      "- scales         [* -> 1.2.1]\n",
      "- shape          [* -> 1.4.6]\n",
      "- sodium         [* -> 1.3.0]\n",
      "- SQUAREM        [* -> 2021.1]\n",
      "- stringi        [* -> 1.7.12]\n",
      "- stringr        [* -> 1.5.0]\n",
      "- survival       [* -> 3.5-5]\n",
      "- swagger        [* -> 3.33.1]\n",
      "- sys            [* -> 3.4.2]\n",
      "- tibble         [* -> 3.2.1]\n",
      "- tidyr          [* -> 1.3.0]\n",
      "- tidyselect     [* -> 1.2.0]\n",
      "- timechange     [* -> 0.2.0]\n",
      "- timeDate       [* -> 4022.108]\n",
      "- tzdb           [* -> 0.4.0]\n",
      "- utf8           [* -> 1.2.3]\n",
      "- vctrs          [* -> 0.6.3]\n",
      "- vetiver        [* -> 0.2.4]\n",
      "- viridisLite    [* -> 0.4.2]\n",
      "- vroom          [* -> 1.6.3]\n",
      "- webutils       [* -> 1.1]\n",
      "- whisker        [* -> 0.4.1]\n",
      "- withr          [* -> 2.5.0]\n",
      "- yaml           [* -> 2.3.7]\n",
      "\n",
      "# RSPM -----------------------------------------------------------------------\n",
      "- askpass        [* -> 1.1]\n",
      "- pkgconfig      [* -> 2.0.3]\n",
      "- prettyunits    [* -> 1.1.1]\n",
      "- rappdirs       [* -> 0.3.3]\n",
      "\n",
      "The version of R recorded in the lockfile will be updated:\n",
      "- R              [* -> 4.0.5]\n",
      "\n",
      "- Lockfile written to \"vetiver_renv.lock\".\n"
     ]
    }
   ],
   "source": [
    "vetiver::vetiver_write_docker(v_mod, \"/kaggle/input/custom-plumber/plumber.R\")"
   ]
  },
  {
   "cell_type": "code",
   "execution_count": null,
   "id": "1619cab3",
   "metadata": {
    "papermill": {
     "duration": 0.003752,
     "end_time": "2023-10-21T05:56:48.651991",
     "exception": false,
     "start_time": "2023-10-21T05:56:48.648239",
     "status": "completed"
    },
    "tags": []
   },
   "outputs": [],
   "source": []
  }
 ],
 "metadata": {
  "kernelspec": {
   "display_name": "R",
   "language": "R",
   "name": "ir"
  },
  "language_info": {
   "codemirror_mode": "r",
   "file_extension": ".r",
   "mimetype": "text/x-r-source",
   "name": "R",
   "pygments_lexer": "r",
   "version": "4.0.5"
  },
  "papermill": {
   "default_parameters": {},
   "duration": 87.467516,
   "end_time": "2023-10-21T05:56:48.777724",
   "environment_variables": {},
   "exception": null,
   "input_path": "__notebook__.ipynb",
   "output_path": "__notebook__.ipynb",
   "parameters": {},
   "start_time": "2023-10-21T05:55:21.310208",
   "version": "2.4.0"
  }
 },
 "nbformat": 4,
 "nbformat_minor": 5
}
